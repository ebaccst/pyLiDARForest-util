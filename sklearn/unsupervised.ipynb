{
 "cells": [
  {
   "cell_type": "markdown",
   "metadata": {},
   "source": [
    "https://thisdata.com/blog/unsupervised-machine-learning-with-one-class-support-vector-machines/"
   ]
  },
  {
   "cell_type": "code",
   "execution_count": 2,
   "metadata": {
    "collapsed": true
   },
   "outputs": [],
   "source": [
    "%matplotlib inline"
   ]
  },
  {
   "cell_type": "code",
   "execution_count": 4,
   "metadata": {
    "collapsed": true
   },
   "outputs": [],
   "source": [
    "import matplotlib\n",
    "import numpy as np  \n",
    "import pandas as pd  \n",
    "from sklearn import utils  \n",
    "import pandas.io.sql as psql\n",
    "import psycopg2 as pg"
   ]
  },
  {
   "cell_type": "code",
   "execution_count": 21,
   "metadata": {
    "collapsed": false
   },
   "outputs": [
    {
     "data": {
      "text/plain": [
       "<matplotlib.axes._subplots.AxesSubplot at 0xc7a38d0>"
      ]
     },
     "execution_count": 21,
     "metadata": {},
     "output_type": "execute_result"
    },
    {
     "data": {
      "image/png": "[encoded data removed]",
      "text/plain": [
       "<matplotlib.figure.Figure at 0xc45c2b0>"
      ]
     },
     "metadata": {},
     "output_type": "display_data"
    }
   ],
   "source": [
    "# import the CSV from http://kdd.ics.uci.edu/databases/kddcup99/kddcup99.html\n",
    "# this will return a pandas dataframe.\n",
    "kddcup = r'E:\\heitor.guerra\\PycharmProjects\\pyLiDARForest\\app\\sklearn\\kddcup.data_10_percent.csv'\n",
    "col_names = [\"duration\", \"protocol_type\", \"service\", \"flag\", \"src_bytes\",\n",
    "             \"dst_bytes\", \"land\", \"wrong_fragment\", \"urgent\", \"hot\", \"num_failed_logins\",\n",
    "             \"logged_in\", \"num_compromised\", \"root_shell\", \"su_attempted\", \"num_root\",\n",
    "             \"num_file_creations\", \"num_shells\", \"num_access_files\", \"num_outbound_cmds\",\n",
    "             \"is_host_login\", \"is_guest_login\", \"count\", \"srv_count\", \"serror_rate\",\n",
    "             \"srv_serror_rate\", \"rerror_rate\", \"srv_rerror_rate\", \"same_srv_rate\",\n",
    "             \"diff_srv_rate\", \"srv_diff_host_rate\", \"dst_host_count\", \"dst_host_srv_count\",\n",
    "             \"dst_host_same_srv_rate\", \"dst_host_diff_srv_rate\", \"dst_host_same_src_port_rate\",\n",
    "             \"dst_host_srv_diff_host_rate\", \"dst_host_serror_rate\", \"dst_host_srv_serror_rate\",\n",
    "             \"dst_host_rerror_rate\", \"dst_host_srv_rerror_rate\", \"label\"]\n",
    "\n",
    "data = pd.read_csv(kddcup, header=None, names=col_names, low_memory=False)\n",
    "\n",
    "# extract just the logged-in HTTP accesses from the data\n",
    "data = data[data['service'] == \"http\"]\n",
    "data = data[data[\"logged_in\"] == 1]\n",
    "\n",
    "# let's take a look at the types of attack labels are present in the data.\n",
    "data.label.value_counts().plot(kind='bar')"
   ]
  },
  {
   "cell_type": "code",
   "execution_count": 22,
   "metadata": {
    "collapsed": false
   },
   "outputs": [
    {
     "data": {
      "text/html": [
       "<div>\n",
       "<table border=\"1\" class=\"dataframe\">\n",
       "  <thead>\n",
       "    <tr style=\"text-align: right;\">\n",
       "      <th></th>\n",
       "      <th>duration</th>\n",
       "      <th>src_bytes</th>\n",
       "      <th>dst_bytes</th>\n",
       "      <th>land</th>\n",
       "      <th>wrong_fragment</th>\n",
       "      <th>urgent</th>\n",
       "      <th>hot</th>\n",
       "      <th>num_failed_logins</th>\n",
       "      <th>logged_in</th>\n",
       "      <th>num_compromised</th>\n",
       "      <th>...</th>\n",
       "      <th>dst_host_count</th>\n",
       "      <th>dst_host_srv_count</th>\n",
       "      <th>dst_host_same_srv_rate</th>\n",
       "      <th>dst_host_diff_srv_rate</th>\n",
       "      <th>dst_host_same_src_port_rate</th>\n",
       "      <th>dst_host_srv_diff_host_rate</th>\n",
       "      <th>dst_host_serror_rate</th>\n",
       "      <th>dst_host_srv_serror_rate</th>\n",
       "      <th>dst_host_rerror_rate</th>\n",
       "      <th>dst_host_srv_rerror_rate</th>\n",
       "    </tr>\n",
       "  </thead>\n",
       "  <tbody>\n",
       "    <tr>\n",
       "      <th>count</th>\n",
       "      <td>58725.000000</td>\n",
       "      <td>58725.000000</td>\n",
       "      <td>5.872500e+04</td>\n",
       "      <td>58725.0</td>\n",
       "      <td>58725.0</td>\n",
       "      <td>58725.0</td>\n",
       "      <td>58725.000000</td>\n",
       "      <td>58725.0</td>\n",
       "      <td>58725.0</td>\n",
       "      <td>58725.000000</td>\n",
       "      <td>...</td>\n",
       "      <td>58725.000000</td>\n",
       "      <td>58725.000000</td>\n",
       "      <td>58725.000000</td>\n",
       "      <td>58725.000000</td>\n",
       "      <td>58725.000000</td>\n",
       "      <td>58725.000000</td>\n",
       "      <td>58725.000000</td>\n",
       "      <td>58725.000000</td>\n",
       "      <td>58725.000000</td>\n",
       "      <td>58725.000000</td>\n",
       "    </tr>\n",
       "    <tr>\n",
       "      <th>mean</th>\n",
       "      <td>0.686641</td>\n",
       "      <td>2282.454593</td>\n",
       "      <td>4.658200e+03</td>\n",
       "      <td>0.0</td>\n",
       "      <td>0.0</td>\n",
       "      <td>0.0</td>\n",
       "      <td>0.077258</td>\n",
       "      <td>0.0</td>\n",
       "      <td>1.0</td>\n",
       "      <td>0.036662</td>\n",
       "      <td>...</td>\n",
       "      <td>140.069289</td>\n",
       "      <td>246.700570</td>\n",
       "      <td>0.997880</td>\n",
       "      <td>0.000641</td>\n",
       "      <td>0.051499</td>\n",
       "      <td>0.020208</td>\n",
       "      <td>0.001215</td>\n",
       "      <td>0.000775</td>\n",
       "      <td>0.007308</td>\n",
       "      <td>0.010389</td>\n",
       "    </tr>\n",
       "    <tr>\n",
       "      <th>std</th>\n",
       "      <td>14.394064</td>\n",
       "      <td>10259.946866</td>\n",
       "      <td>1.982101e+04</td>\n",
       "      <td>0.0</td>\n",
       "      <td>0.0</td>\n",
       "      <td>0.0</td>\n",
       "      <td>0.382696</td>\n",
       "      <td>0.0</td>\n",
       "      <td>0.0</td>\n",
       "      <td>0.190721</td>\n",
       "      <td>...</td>\n",
       "      <td>104.888467</td>\n",
       "      <td>36.089793</td>\n",
       "      <td>0.018024</td>\n",
       "      <td>0.006456</td>\n",
       "      <td>0.143288</td>\n",
       "      <td>0.027195</td>\n",
       "      <td>0.012157</td>\n",
       "      <td>0.003345</td>\n",
       "      <td>0.051759</td>\n",
       "      <td>0.075507</td>\n",
       "    </tr>\n",
       "    <tr>\n",
       "      <th>min</th>\n",
       "      <td>0.000000</td>\n",
       "      <td>0.000000</td>\n",
       "      <td>0.000000e+00</td>\n",
       "      <td>0.0</td>\n",
       "      <td>0.0</td>\n",
       "      <td>0.0</td>\n",
       "      <td>0.000000</td>\n",
       "      <td>0.0</td>\n",
       "      <td>1.0</td>\n",
       "      <td>0.000000</td>\n",
       "      <td>...</td>\n",
       "      <td>0.000000</td>\n",
       "      <td>0.000000</td>\n",
       "      <td>0.000000</td>\n",
       "      <td>0.000000</td>\n",
       "      <td>0.000000</td>\n",
       "      <td>0.000000</td>\n",
       "      <td>0.000000</td>\n",
       "      <td>0.000000</td>\n",
       "      <td>0.000000</td>\n",
       "      <td>0.000000</td>\n",
       "    </tr>\n",
       "    <tr>\n",
       "      <th>25%</th>\n",
       "      <td>0.000000</td>\n",
       "      <td>218.000000</td>\n",
       "      <td>6.860000e+02</td>\n",
       "      <td>0.0</td>\n",
       "      <td>0.0</td>\n",
       "      <td>0.0</td>\n",
       "      <td>0.000000</td>\n",
       "      <td>0.0</td>\n",
       "      <td>1.0</td>\n",
       "      <td>0.000000</td>\n",
       "      <td>...</td>\n",
       "      <td>30.000000</td>\n",
       "      <td>255.000000</td>\n",
       "      <td>1.000000</td>\n",
       "      <td>0.000000</td>\n",
       "      <td>0.000000</td>\n",
       "      <td>0.000000</td>\n",
       "      <td>0.000000</td>\n",
       "      <td>0.000000</td>\n",
       "      <td>0.000000</td>\n",
       "      <td>0.000000</td>\n",
       "    </tr>\n",
       "    <tr>\n",
       "      <th>50%</th>\n",
       "      <td>0.000000</td>\n",
       "      <td>253.000000</td>\n",
       "      <td>1.724000e+03</td>\n",
       "      <td>0.0</td>\n",
       "      <td>0.0</td>\n",
       "      <td>0.0</td>\n",
       "      <td>0.000000</td>\n",
       "      <td>0.0</td>\n",
       "      <td>1.0</td>\n",
       "      <td>0.000000</td>\n",
       "      <td>...</td>\n",
       "      <td>130.000000</td>\n",
       "      <td>255.000000</td>\n",
       "      <td>1.000000</td>\n",
       "      <td>0.000000</td>\n",
       "      <td>0.010000</td>\n",
       "      <td>0.010000</td>\n",
       "      <td>0.000000</td>\n",
       "      <td>0.000000</td>\n",
       "      <td>0.000000</td>\n",
       "      <td>0.000000</td>\n",
       "    </tr>\n",
       "    <tr>\n",
       "      <th>75%</th>\n",
       "      <td>0.000000</td>\n",
       "      <td>309.000000</td>\n",
       "      <td>5.053000e+03</td>\n",
       "      <td>0.0</td>\n",
       "      <td>0.0</td>\n",
       "      <td>0.0</td>\n",
       "      <td>0.000000</td>\n",
       "      <td>0.0</td>\n",
       "      <td>1.0</td>\n",
       "      <td>0.000000</td>\n",
       "      <td>...</td>\n",
       "      <td>255.000000</td>\n",
       "      <td>255.000000</td>\n",
       "      <td>1.000000</td>\n",
       "      <td>0.000000</td>\n",
       "      <td>0.030000</td>\n",
       "      <td>0.030000</td>\n",
       "      <td>0.000000</td>\n",
       "      <td>0.000000</td>\n",
       "      <td>0.000000</td>\n",
       "      <td>0.000000</td>\n",
       "    </tr>\n",
       "    <tr>\n",
       "      <th>max</th>\n",
       "      <td>1440.000000</td>\n",
       "      <td>54540.000000</td>\n",
       "      <td>3.916592e+06</td>\n",
       "      <td>0.0</td>\n",
       "      <td>0.0</td>\n",
       "      <td>0.0</td>\n",
       "      <td>4.000000</td>\n",
       "      <td>0.0</td>\n",
       "      <td>1.0</td>\n",
       "      <td>4.000000</td>\n",
       "      <td>...</td>\n",
       "      <td>255.000000</td>\n",
       "      <td>255.000000</td>\n",
       "      <td>1.000000</td>\n",
       "      <td>1.000000</td>\n",
       "      <td>1.000000</td>\n",
       "      <td>1.000000</td>\n",
       "      <td>1.000000</td>\n",
       "      <td>0.200000</td>\n",
       "      <td>1.000000</td>\n",
       "      <td>1.000000</td>\n",
       "    </tr>\n",
       "  </tbody>\n",
       "</table>\n",
       "<p>8 rows × 38 columns</p>\n",
       "</div>"
      ],
      "text/plain": [
       "           duration     src_bytes     dst_bytes     land  wrong_fragment  \\\n",
       "count  58725.000000  58725.000000  5.872500e+04  58725.0         58725.0   \n",
       "mean       0.686641   2282.454593  4.658200e+03      0.0             0.0   \n",
       "std       14.394064  10259.946866  1.982101e+04      0.0             0.0   \n",
       "min        0.000000      0.000000  0.000000e+00      0.0             0.0   \n",
       "25%        0.000000    218.000000  6.860000e+02      0.0             0.0   \n",
       "50%        0.000000    253.000000  1.724000e+03      0.0             0.0   \n",
       "75%        0.000000    309.000000  5.053000e+03      0.0             0.0   \n",
       "max     1440.000000  54540.000000  3.916592e+06      0.0             0.0   \n",
       "\n",
       "        urgent           hot  num_failed_logins  logged_in  num_compromised  \\\n",
       "count  58725.0  58725.000000            58725.0    58725.0     58725.000000   \n",
       "mean       0.0      0.077258                0.0        1.0         0.036662   \n",
       "std        0.0      0.382696                0.0        0.0         0.190721   \n",
       "min        0.0      0.000000                0.0        1.0         0.000000   \n",
       "25%        0.0      0.000000                0.0        1.0         0.000000   \n",
       "50%        0.0      0.000000                0.0        1.0         0.000000   \n",
       "75%        0.0      0.000000                0.0        1.0         0.000000   \n",
       "max        0.0      4.000000                0.0        1.0         4.000000   \n",
       "\n",
       "                 ...             dst_host_count  dst_host_srv_count  \\\n",
       "count            ...               58725.000000        58725.000000   \n",
       "mean             ...                 140.069289          246.700570   \n",
       "std              ...                 104.888467           36.089793   \n",
       "min              ...                   0.000000            0.000000   \n",
       "25%              ...                  30.000000          255.000000   \n",
       "50%              ...                 130.000000          255.000000   \n",
       "75%              ...                 255.000000          255.000000   \n",
       "max              ...                 255.000000          255.000000   \n",
       "\n",
       "       dst_host_same_srv_rate  dst_host_diff_srv_rate  \\\n",
       "count            58725.000000            58725.000000   \n",
       "mean                 0.997880                0.000641   \n",
       "std                  0.018024                0.006456   \n",
       "min                  0.000000                0.000000   \n",
       "25%                  1.000000                0.000000   \n",
       "50%                  1.000000                0.000000   \n",
       "75%                  1.000000                0.000000   \n",
       "max                  1.000000                1.000000   \n",
       "\n",
       "       dst_host_same_src_port_rate  dst_host_srv_diff_host_rate  \\\n",
       "count                 58725.000000                 58725.000000   \n",
       "mean                      0.051499                     0.020208   \n",
       "std                       0.143288                     0.027195   \n",
       "min                       0.000000                     0.000000   \n",
       "25%                       0.000000                     0.000000   \n",
       "50%                       0.010000                     0.010000   \n",
       "75%                       0.030000                     0.030000   \n",
       "max                       1.000000                     1.000000   \n",
       "\n",
       "       dst_host_serror_rate  dst_host_srv_serror_rate  dst_host_rerror_rate  \\\n",
       "count          58725.000000              58725.000000          58725.000000   \n",
       "mean               0.001215                  0.000775              0.007308   \n",
       "std                0.012157                  0.003345              0.051759   \n",
       "min                0.000000                  0.000000              0.000000   \n",
       "25%                0.000000                  0.000000              0.000000   \n",
       "50%                0.000000                  0.000000              0.000000   \n",
       "75%                0.000000                  0.000000              0.000000   \n",
       "max                1.000000                  0.200000              1.000000   \n",
       "\n",
       "       dst_host_srv_rerror_rate  \n",
       "count              58725.000000  \n",
       "mean                   0.010389  \n",
       "std                    0.075507  \n",
       "min                    0.000000  \n",
       "25%                    0.000000  \n",
       "50%                    0.000000  \n",
       "75%                    0.000000  \n",
       "max                    1.000000  \n",
       "\n",
       "[8 rows x 38 columns]"
      ]
     },
     "execution_count": 22,
     "metadata": {},
     "output_type": "execute_result"
    }
   ],
   "source": [
    "data.describe()"
   ]
  },
  {
   "cell_type": "code",
   "execution_count": 23,
   "metadata": {
    "collapsed": false
   },
   "outputs": [],
   "source": [
    "# the full dataset contains features for SMTP, NDP, ICMP, etc.\n",
    "# here we'll grab just the relevant features for HTTP.\n",
    "relevant_features = [  \n",
    "    \"duration\",\n",
    "    \"src_bytes\",\n",
    "    \"dst_bytes\",\n",
    "    \"label\"\n",
    "]\n",
    "\n",
    "# replace the data with a subset containing only the relevant features\n",
    "data = data[relevant_features]"
   ]
  },
  {
   "cell_type": "code",
   "execution_count": 24,
   "metadata": {
    "collapsed": false
   },
   "outputs": [
    {
     "data": {
      "text/html": [
       "<div>\n",
       "<table border=\"1\" class=\"dataframe\">\n",
       "  <thead>\n",
       "    <tr style=\"text-align: right;\">\n",
       "      <th></th>\n",
       "      <th>duration</th>\n",
       "      <th>src_bytes</th>\n",
       "      <th>dst_bytes</th>\n",
       "    </tr>\n",
       "  </thead>\n",
       "  <tbody>\n",
       "    <tr>\n",
       "      <th>count</th>\n",
       "      <td>58725.000000</td>\n",
       "      <td>58725.000000</td>\n",
       "      <td>5.872500e+04</td>\n",
       "    </tr>\n",
       "    <tr>\n",
       "      <th>mean</th>\n",
       "      <td>0.686641</td>\n",
       "      <td>2282.454593</td>\n",
       "      <td>4.658200e+03</td>\n",
       "    </tr>\n",
       "    <tr>\n",
       "      <th>std</th>\n",
       "      <td>14.394064</td>\n",
       "      <td>10259.946866</td>\n",
       "      <td>1.982101e+04</td>\n",
       "    </tr>\n",
       "    <tr>\n",
       "      <th>min</th>\n",
       "      <td>0.000000</td>\n",
       "      <td>0.000000</td>\n",
       "      <td>0.000000e+00</td>\n",
       "    </tr>\n",
       "    <tr>\n",
       "      <th>25%</th>\n",
       "      <td>0.000000</td>\n",
       "      <td>218.000000</td>\n",
       "      <td>6.860000e+02</td>\n",
       "    </tr>\n",
       "    <tr>\n",
       "      <th>50%</th>\n",
       "      <td>0.000000</td>\n",
       "      <td>253.000000</td>\n",
       "      <td>1.724000e+03</td>\n",
       "    </tr>\n",
       "    <tr>\n",
       "      <th>75%</th>\n",
       "      <td>0.000000</td>\n",
       "      <td>309.000000</td>\n",
       "      <td>5.053000e+03</td>\n",
       "    </tr>\n",
       "    <tr>\n",
       "      <th>max</th>\n",
       "      <td>1440.000000</td>\n",
       "      <td>54540.000000</td>\n",
       "      <td>3.916592e+06</td>\n",
       "    </tr>\n",
       "  </tbody>\n",
       "</table>\n",
       "</div>"
      ],
      "text/plain": [
       "           duration     src_bytes     dst_bytes\n",
       "count  58725.000000  58725.000000  5.872500e+04\n",
       "mean       0.686641   2282.454593  4.658200e+03\n",
       "std       14.394064  10259.946866  1.982101e+04\n",
       "min        0.000000      0.000000  0.000000e+00\n",
       "25%        0.000000    218.000000  6.860000e+02\n",
       "50%        0.000000    253.000000  1.724000e+03\n",
       "75%        0.000000    309.000000  5.053000e+03\n",
       "max     1440.000000  54540.000000  3.916592e+06"
      ]
     },
     "execution_count": 24,
     "metadata": {},
     "output_type": "execute_result"
    }
   ],
   "source": [
    "data.describe()"
   ]
  },
  {
   "cell_type": "code",
   "execution_count": 25,
   "metadata": {
    "collapsed": false
   },
   "outputs": [],
   "source": [
    "# normalise the data - this leads to better accuracy and reduces numerical instability in\n",
    "# the SVM implementation\n",
    "data[\"duration\"] = np.log((data[\"duration\"] + 0.1).astype(float)) \n",
    "data[\"src_bytes\"] = np.log((data[\"src_bytes\"] + 0.1).astype(float))  \n",
    "data[\"dst_bytes\"] = np.log((data[\"dst_bytes\"] + 0.1).astype(float))\n"
   ]
  },
  {
   "cell_type": "code",
   "execution_count": 26,
   "metadata": {
    "collapsed": false
   },
   "outputs": [
    {
     "data": {
      "text/html": [
       "<div>\n",
       "<table border=\"1\" class=\"dataframe\">\n",
       "  <thead>\n",
       "    <tr style=\"text-align: right;\">\n",
       "      <th></th>\n",
       "      <th>duration</th>\n",
       "      <th>src_bytes</th>\n",
       "      <th>dst_bytes</th>\n",
       "    </tr>\n",
       "  </thead>\n",
       "  <tbody>\n",
       "    <tr>\n",
       "      <th>count</th>\n",
       "      <td>58725.000000</td>\n",
       "      <td>58725.000000</td>\n",
       "      <td>58725.000000</td>\n",
       "    </tr>\n",
       "    <tr>\n",
       "      <th>mean</th>\n",
       "      <td>-2.263820</td>\n",
       "      <td>5.735731</td>\n",
       "      <td>7.538792</td>\n",
       "    </tr>\n",
       "    <tr>\n",
       "      <th>std</th>\n",
       "      <td>0.492619</td>\n",
       "      <td>1.060258</td>\n",
       "      <td>1.329806</td>\n",
       "    </tr>\n",
       "    <tr>\n",
       "      <th>min</th>\n",
       "      <td>-2.302585</td>\n",
       "      <td>-2.302585</td>\n",
       "      <td>-2.302585</td>\n",
       "    </tr>\n",
       "    <tr>\n",
       "      <th>25%</th>\n",
       "      <td>-2.302585</td>\n",
       "      <td>5.384954</td>\n",
       "      <td>6.531023</td>\n",
       "    </tr>\n",
       "    <tr>\n",
       "      <th>50%</th>\n",
       "      <td>-2.302585</td>\n",
       "      <td>5.533785</td>\n",
       "      <td>7.452460</td>\n",
       "    </tr>\n",
       "    <tr>\n",
       "      <th>75%</th>\n",
       "      <td>-2.302585</td>\n",
       "      <td>5.733665</td>\n",
       "      <td>8.527757</td>\n",
       "    </tr>\n",
       "    <tr>\n",
       "      <th>max</th>\n",
       "      <td>7.272468</td>\n",
       "      <td>10.906691</td>\n",
       "      <td>15.180732</td>\n",
       "    </tr>\n",
       "  </tbody>\n",
       "</table>\n",
       "</div>"
      ],
      "text/plain": [
       "           duration     src_bytes     dst_bytes\n",
       "count  58725.000000  58725.000000  58725.000000\n",
       "mean      -2.263820      5.735731      7.538792\n",
       "std        0.492619      1.060258      1.329806\n",
       "min       -2.302585     -2.302585     -2.302585\n",
       "25%       -2.302585      5.384954      6.531023\n",
       "50%       -2.302585      5.533785      7.452460\n",
       "75%       -2.302585      5.733665      8.527757\n",
       "max        7.272468     10.906691     15.180732"
      ]
     },
     "execution_count": 26,
     "metadata": {},
     "output_type": "execute_result"
    }
   ],
   "source": [
    "data.describe()"
   ]
  },
  {
   "cell_type": "code",
   "execution_count": 28,
   "metadata": {
    "collapsed": true
   },
   "outputs": [],
   "source": [
    "# we're using a one-class SVM, so we need.. a single class. the dataset 'label'\n",
    "# column contains multiple different categories of attacks, so to make use of \n",
    "# this data in a one-class system we need to convert the attacks into\n",
    "# class 1 (normal) and class -1 (attack)\n",
    "data.loc[data['label'] == \"normal.\", \"attack\"] = 1  \n",
    "data.loc[data['label'] != \"normal.\", \"attack\"] = -1"
   ]
  },
  {
   "cell_type": "code",
   "execution_count": 29,
   "metadata": {
    "collapsed": true
   },
   "outputs": [],
   "source": [
    "# grab out the attack value as the target for training and testing. since we're\n",
    "# only selecting a single column from the `data` dataframe, we'll just get a\n",
    "# series, not a new dataframe\n",
    "target = data['attack']"
   ]
  },
  {
   "cell_type": "code",
   "execution_count": 50,
   "metadata": {
    "collapsed": false
   },
   "outputs": [
    {
     "name": "stdout",
     "output_type": "stream",
     "text": [
      "('outliers.shape', (2209L,))\n",
      "('outlier fraction', 0.03761600681140911)\n"
     ]
    }
   ],
   "source": [
    "# find the proportion of outliers we expect (aka where `attack == -1`). because \n",
    "# target is a series, we just compare against itself rather than a column.\n",
    "outliers = target[target == -1]  \n",
    "print(\"outliers.shape\", outliers.shape)  \n",
    "print(\"outlier fraction\", float(outliers.shape[0])/float(target.shape[0]))"
   ]
  },
  {
   "cell_type": "code",
   "execution_count": 31,
   "metadata": {
    "collapsed": true
   },
   "outputs": [],
   "source": [
    "# drop label columns from the dataframe. we're doing this so we can do \n",
    "# unsupervised training with unlabelled data. we've already copied the label\n",
    "# out into the target series so we can compare against it later.\n",
    "data.drop([\"label\", \"attack\"], axis=1, inplace=True)"
   ]
  },
  {
   "cell_type": "code",
   "execution_count": 32,
   "metadata": {
    "collapsed": false
   },
   "outputs": [
    {
     "data": {
      "text/plain": [
       "(58725, 3)"
      ]
     },
     "execution_count": 32,
     "metadata": {},
     "output_type": "execute_result"
    }
   ],
   "source": [
    "# check the shape for sanity checking.\n",
    "data.shape "
   ]
  },
  {
   "cell_type": "code",
   "execution_count": 35,
   "metadata": {
    "collapsed": false
   },
   "outputs": [],
   "source": [
    "from sklearn.cross_validation import train_test_split"
   ]
  },
  {
   "cell_type": "code",
   "execution_count": 37,
   "metadata": {
    "collapsed": false
   },
   "outputs": [
    {
     "data": {
      "text/plain": [
       "(46980, 3)"
      ]
     },
     "execution_count": 37,
     "metadata": {},
     "output_type": "execute_result"
    }
   ],
   "source": [
    "# Our train_data shows 80% of the records from the resampled dataset, and we have the right number of features.\n",
    "train_data, test_data, train_target, test_target = train_test_split(data, target, train_size = 0.8)  \n",
    "train_data.shape "
   ]
  },
  {
   "cell_type": "code",
   "execution_count": 38,
   "metadata": {
    "collapsed": true
   },
   "outputs": [],
   "source": [
    "from sklearn import svm"
   ]
  },
  {
   "cell_type": "code",
   "execution_count": 51,
   "metadata": {
    "collapsed": false
   },
   "outputs": [
    {
     "name": "stdout",
     "output_type": "stream",
     "text": [
      "('nu', 0.03761600681140911)\n"
     ]
    }
   ],
   "source": [
    "# set nu (which should be the proportion of outliers in our dataset)\n",
    "nu = float(outliers.shape[0])/float(target.shape[0])\n",
    "print(\"nu\", nu)"
   ]
  },
  {
   "cell_type": "code",
   "execution_count": 52,
   "metadata": {
    "collapsed": false
   },
   "outputs": [],
   "source": [
    "model = svm.OneClassSVM(nu=nu, kernel='rbf', gamma=0.00005)"
   ]
  },
  {
   "cell_type": "code",
   "execution_count": 53,
   "metadata": {
    "collapsed": false
   },
   "outputs": [
    {
     "data": {
      "text/plain": [
       "OneClassSVM(cache_size=200, coef0=0.0, degree=3, gamma=5e-05, kernel='rbf',\n",
       "      max_iter=-1, nu=0.0376160068114, random_state=None, shrinking=True,\n",
       "      tol=0.001, verbose=False)"
      ]
     },
     "execution_count": 53,
     "metadata": {},
     "output_type": "execute_result"
    }
   ],
   "source": [
    "model.fit(train_data)  "
   ]
  },
  {
   "cell_type": "code",
   "execution_count": 54,
   "metadata": {
    "collapsed": false
   },
   "outputs": [
    {
     "name": "stdout",
     "output_type": "stream",
     "text": [
      "('accuracy: ', 0.97730949340144746)\n",
      "('precision: ', 0.99884756180232293)\n",
      "('recall: ', 0.97755318678402403)\n",
      "('f1: ', 0.98808565808297566)\n",
      "('area under curve (auc): ', 0.97430440269961704)\n"
     ]
    }
   ],
   "source": [
    "from sklearn import metrics  \n",
    "preds = model.predict(train_data)  \n",
    "targs = train_target\n",
    "\n",
    "print(\"accuracy: \", metrics.accuracy_score(targs, preds))  \n",
    "print(\"precision: \", metrics.precision_score(targs, preds))  \n",
    "print(\"recall: \", metrics.recall_score(targs, preds))  \n",
    "print(\"f1: \", metrics.f1_score(targs, preds))  \n",
    "print(\"area under curve (auc): \", metrics.roc_auc_score(targs, preds)) "
   ]
  },
  {
   "cell_type": "code",
   "execution_count": 55,
   "metadata": {
    "collapsed": false
   },
   "outputs": [
    {
     "data": {
      "text/plain": [
       "['oneclass_v1.model']"
      ]
     },
     "execution_count": 55,
     "metadata": {},
     "output_type": "execute_result"
    }
   ],
   "source": [
    "outputfile = 'oneclass_v1.model'  \n",
    "from sklearn.externals import joblib  \n",
    "joblib.dump(model, outputfile, compress=9)  "
   ]
  },
  {
   "cell_type": "code",
   "execution_count": 58,
   "metadata": {
    "collapsed": false
   },
   "outputs": [
    {
     "name": "stdout",
     "output_type": "stream",
     "text": [
      "(<type 'numpy.ndarray'>, 46980)\n"
     ]
    }
   ],
   "source": [
    "print(type(preds), len(preds))"
   ]
  },
  {
   "cell_type": "code",
   "execution_count": null,
   "metadata": {
    "collapsed": true
   },
   "outputs": [],
   "source": []
  }
 ],
 "metadata": {
  "kernelspec": {
   "display_name": "Python 2",
   "language": "python",
   "name": "python2"
  },
  "language_info": {
   "codemirror_mode": {
    "name": "ipython",
    "version": 2
   },
   "file_extension": ".py",
   "mimetype": "text/x-python",
   "name": "python",
   "nbconvert_exporter": "python",
   "pygments_lexer": "ipython2",
   "version": "2.7.12"
  }
 },
 "nbformat": 4,
 "nbformat_minor": 0
}
