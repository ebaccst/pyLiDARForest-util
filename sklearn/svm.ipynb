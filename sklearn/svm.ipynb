{
 "cells": [
  {
   "cell_type": "code",
   "execution_count": 4,
   "metadata": {
    "collapsed": true
   },
   "outputs": [],
   "source": [
    "%matplotlib inline"
   ]
  },
  {
   "cell_type": "code",
   "execution_count": 6,
   "metadata": {
    "collapsed": false
   },
   "outputs": [],
   "source": [
    "import matplotlib\n",
    "import numpy as np  \n",
    "import pandas as pd\n",
    "from sklearn import utils\n",
    "from sklearn.cross_validation import train_test_split\n",
    "from sklearn import svm\n",
    "from sklearn import metrics\n"
   ]
  },
  {
   "cell_type": "code",
   "execution_count": 14,
   "metadata": {
    "collapsed": false
   },
   "outputs": [],
   "source": [
    "connection = pg.connect(host=\"localhost\", user=\"eba\", password=\"ebaeba18\", database=\"eba\")"
   ]
  },
  {
   "cell_type": "code",
   "execution_count": 39,
   "metadata": {
    "collapsed": true
   },
   "outputs": [],
   "source": [
    "sql_amazon = \"\"\"\n",
    "SELECT\n",
    "  st_x(st_centroid(polys.geom)) AS x,\n",
    "  st_y(st_centroid(polys.geom)) AS y,\n",
    "  polys.agblongo_tch_alive,\n",
    "  polys.evi_max,\n",
    "  polys.evi_mean,\n",
    "  polys.evi_median,\n",
    "  polys.evi_min,\n",
    "  polys.evi_q1,\n",
    "  polys.evi_q3,\n",
    "  polys.evi_sd,\n",
    "  polys.ndvi_max,\n",
    "  polys.ndvi_mean,\n",
    "  polys.ndvi_median,\n",
    "  polys.ndvi_min,\n",
    "  polys.ndvi_q1,\n",
    "  polys.ndvi_q3,\n",
    "  polys.palsar_hh,\n",
    "  polys.palsar_hhrhv1,\n",
    "  polys.palsar_hv,\n",
    "  polys.trmm_max,\n",
    "  polys.trmm_median,\n",
    "  polys.trmm_min,\n",
    "  polys.trmm_q1,\n",
    "  polys.trmm_q3\n",
    "FROM \n",
    "  amazon_test polys INNER JOIN transects bb ON ST_Intersects(bb.polyflown, polys.geom)\n",
    "WHERE \n",
    "  polys.evi_max IS NOT NULL AND\n",
    "  polys.evi_mean IS NOT NULL AND\n",
    "  polys.evi_median IS NOT NULL AND\n",
    "  polys.evi_min IS NOT NULL AND\n",
    "  polys.evi_q1 IS NOT NULL AND\n",
    "  polys.evi_q3 IS NOT NULL AND\n",
    "  polys.evi_sd IS NOT NULL AND\n",
    "  polys.ndvi_max IS NOT NULL AND\n",
    "  polys.ndvi_mean IS NOT NULL AND\n",
    "  polys.ndvi_median IS NOT NULL AND\n",
    "  polys.ndvi_min IS NOT NULL AND\n",
    "  polys.ndvi_q1 IS NOT NULL AND\n",
    "  polys.ndvi_q3 IS NOT NULL AND\n",
    "  polys.palsar_hh IS NOT NULL AND\n",
    "  polys.palsar_hhrhv1 IS NOT NULL AND\n",
    "  polys.palsar_hv IS NOT NULL AND\n",
    "  polys.trmm_max IS NOT NULL AND\n",
    "  polys.trmm_median IS NOT NULL AND\n",
    "  polys.trmm_min IS NOT NULL AND\n",
    "  polys.trmm_q1 IS NOT NULL AND\n",
    "  polys.trmm_q3 IS NOT NULL;\n",
    "\"\"\""
   ]
  },
  {
   "cell_type": "code",
   "execution_count": 40,
   "metadata": {
    "collapsed": false
   },
   "outputs": [],
   "source": [
    "df = psql.read_sql(sql_amazon, connection)"
   ]
  },
  {
   "cell_type": "code",
   "execution_count": 41,
   "metadata": {
    "collapsed": true
   },
   "outputs": [],
   "source": [
    "data = df.copy()"
   ]
  },
  {
   "cell_type": "code",
   "execution_count": 42,
   "metadata": {
    "collapsed": true
   },
   "outputs": [],
   "source": [
    "backup_attrs = [\"x\", \"y\"]"
   ]
  },
  {
   "cell_type": "code",
   "execution_count": 43,
   "metadata": {
    "collapsed": true
   },
   "outputs": [],
   "source": [
    "spatial = data[backup_attrs]"
   ]
  },
  {
   "cell_type": "code",
   "execution_count": 44,
   "metadata": {
    "collapsed": true
   },
   "outputs": [],
   "source": [
    "data.drop(backup_attrs, axis=1, inplace=True)"
   ]
  },
  {
   "cell_type": "code",
   "execution_count": 45,
   "metadata": {
    "collapsed": false
   },
   "outputs": [
    {
     "name": "stdout",
     "output_type": "stream",
     "text": [
      "       agblongo_tch_alive      evi_max     evi_mean   evi_median      evi_min  \\\n",
      "count         8774.000000  9018.000000  9018.000000  9018.000000  9018.000000   \n",
      "mean            16.495281  6667.318474  4961.636254  5049.283100  2739.169328   \n",
      "std              8.378196   875.472260   578.246616   608.312178   834.303749   \n",
      "min              0.000021  3512.000000  2015.913043  1931.000000   277.000000   \n",
      "25%             10.891721  6136.250000  4672.923913  4770.000000  2120.000000   \n",
      "50%             16.585043  6584.500000  5034.413043  5144.000000  2716.000000   \n",
      "75%             22.304106  7074.000000  5364.956522  5452.000000  3322.000000   \n",
      "max             54.140940  9996.000000  6317.260870  6330.000000  5283.000000   \n",
      "\n",
      "            evi_q1       evi_q3       evi_sd     ndvi_max    ndvi_mean  \\\n",
      "count  9018.000000  9018.000000  9018.000000  9018.000000  9018.000000   \n",
      "mean   4448.895875  5598.947106   965.505662  9166.382346  7795.490526   \n",
      "std     663.139424   586.999100   226.935074   438.812618   596.794077   \n",
      "min    1399.500000  2457.000000   377.888622  6754.000000  4695.086957   \n",
      "25%    4178.000000  5296.125000   803.698082  8886.250000  7518.880435   \n",
      "50%    4555.500000  5667.500000   955.669708  9169.500000  7906.000000   \n",
      "75%    4889.500000  6022.500000  1106.467157  9488.000000  8223.326087   \n",
      "max    5841.500000  6881.500000  2098.358210  9992.000000  8858.565217   \n",
      "\n",
      "          ...           ndvi_q1      ndvi_q3     palsar_hh  palsar_hhrhv1  \\\n",
      "count     ...       9018.000000  9018.000000   9018.000000    9018.000000   \n",
      "mean      ...       7565.317753  8474.996507   6805.685526       1.825629   \n",
      "std       ...        889.632035   447.558343    549.960703       0.135616   \n",
      "min       ...       3344.500000  5384.500000   1001.500000       1.533996   \n",
      "25%       ...       7180.750000  8337.000000   6586.666667       1.746250   \n",
      "50%       ...       7824.250000  8585.500000   6830.861111       1.797034   \n",
      "75%       ...       8219.500000  8776.500000   7073.750000       1.865753   \n",
      "max       ...       8718.500000  9249.500000  10176.166667       2.915997   \n",
      "\n",
      "         palsar_hv     trmm_max  trmm_median     trmm_min      trmm_q1  \\\n",
      "count  9018.000000  9018.000000  9018.000000  9018.000000  9018.000000   \n",
      "mean   3754.477172   597.196467   148.118960    22.274425    79.637150   \n",
      "std     360.675750    55.309107    20.510458    32.765338    18.978300   \n",
      "min     396.000000   479.659546    92.545578     0.000000    41.912392   \n",
      "25%    3685.500000   559.912109   135.352478     2.070000    63.557358   \n",
      "50%    3823.250000   600.005859   148.378632     4.140000    79.374939   \n",
      "75%    3939.000000   630.318848   159.752808    41.912392    91.923038   \n",
      "max    4877.166667   715.416626   200.026215    95.566650   125.475723   \n",
      "\n",
      "           trmm_q3  \n",
      "count  9018.000000  \n",
      "mean    262.153991  \n",
      "std      19.226216  \n",
      "min     184.087006  \n",
      "25%     256.826172  \n",
      "50%     262.108887  \n",
      "75%     272.286377  \n",
      "max     294.907196  \n",
      "\n",
      "[8 rows x 22 columns]\n"
     ]
    }
   ],
   "source": [
    "print(data.describe())"
   ]
  },
  {
   "cell_type": "code",
   "execution_count": 46,
   "metadata": {
    "collapsed": true
   },
   "outputs": [],
   "source": [
    "data.loc[(data['agblongo_tch_alive'].isnull()) & (data['agblongo_tch_alive'] < 0), \"biomass\"] = -1\n",
    "data.loc[(data['agblongo_tch_alive'] >= 0) & (data['agblongo_tch_alive'] < 5), \"biomass\"] = 1\n",
    "data.loc[(data['agblongo_tch_alive'] >= 5) & (data['agblongo_tch_alive'] < 10), \"biomass\"] = 2\n",
    "data.loc[(data['agblongo_tch_alive'] >= 10) & (data['agblongo_tch_alive'] < 15), \"biomass\"] = 3\n",
    "data.loc[(data['agblongo_tch_alive'] >= 15) & (data['agblongo_tch_alive'] < 20), \"biomass\"] = 4\n",
    "data.loc[(data['agblongo_tch_alive'] >= 20) & (data['agblongo_tch_alive'] < 25), \"biomass\"] = 5\n",
    "data.loc[(data['agblongo_tch_alive'] >= 25) & (data['agblongo_tch_alive'] < 30), \"biomass\"] = 6\n",
    "data.loc[(data['agblongo_tch_alive'] >= 30) & (data['agblongo_tch_alive'] < 35), \"biomass\"] = 7\n",
    "data.loc[(data['agblongo_tch_alive'] >= 35) & (data['agblongo_tch_alive'] < 40), \"biomass\"] = 8\n",
    "data.loc[(data['agblongo_tch_alive'] >= 40) & (data['agblongo_tch_alive'] < 45), \"biomass\"] = 9\n",
    "data.loc[(data['agblongo_tch_alive'] >= 45) & (data['agblongo_tch_alive'] < 50), \"biomass\"] = 10\n",
    "data.loc[(data['agblongo_tch_alive'] >= 50) & (data['agblongo_tch_alive'] < 60), \"biomass\"] = 11\n",
    "data.loc[(data['agblongo_tch_alive'] >= 60) & (data['agblongo_tch_alive'] < 80), \"biomass\"] = 12\n",
    "data.loc[data['agblongo_tch_alive'] >= 80, \"biomass\"] = 13"
   ]
  },
  {
   "cell_type": "code",
   "execution_count": 47,
   "metadata": {
    "collapsed": true
   },
   "outputs": [],
   "source": [
    "target = data[\"biomass\"]"
   ]
  },
  {
   "cell_type": "code",
   "execution_count": 48,
   "metadata": {
    "collapsed": false
   },
   "outputs": [
    {
     "data": {
      "text/plain": [
       "<matplotlib.axes._subplots.AxesSubplot at 0x3ed47e10>"
      ]
     },
     "execution_count": 48,
     "metadata": {},
     "output_type": "execute_result"
    },
    {
     "data": {
      "image/png": "[encoded data removed]",
      "text/plain": [
       "<matplotlib.figure.Figure at 0x38edb828>"
      ]
     },
     "metadata": {},
     "output_type": "display_data"
    }
   ],
   "source": [
    "data.agblongo_tch_alive.plot(kind='bar')"
   ]
  },
  {
   "cell_type": "code",
   "execution_count": 49,
   "metadata": {
    "collapsed": false
   },
   "outputs": [
    {
     "data": {
      "text/plain": [
       "<matplotlib.axes._subplots.AxesSubplot at 0x405136a0>"
      ]
     },
     "execution_count": 49,
     "metadata": {},
     "output_type": "execute_result"
    },
    {
     "data": {
      "image/png": "[encoded data removed]",
      "text/plain": [
       "<matplotlib.figure.Figure at 0x3f6e35c0>"
      ]
     },
     "metadata": {},
     "output_type": "display_data"
    }
   ],
   "source": [
    "data.agblongo_tch_alive.plot.hist()"
   ]
  },
  {
   "cell_type": "code",
   "execution_count": 50,
   "metadata": {
    "collapsed": false
   },
   "outputs": [
    {
     "data": {
      "text/plain": [
       "<matplotlib.axes._subplots.AxesSubplot at 0x4368f630>"
      ]
     },
     "execution_count": 50,
     "metadata": {},
     "output_type": "execute_result"
    },
    {
     "data": {
      "image/png": "[encoded data removed]",
      "text/plain": [
       "<matplotlib.figure.Figure at 0x438762b0>"
      ]
     },
     "metadata": {},
     "output_type": "display_data"
    }
   ],
   "source": [
    "data.ndvi_mean.hist()"
   ]
  },
  {
   "cell_type": "code",
   "execution_count": 51,
   "metadata": {
    "collapsed": false
   },
   "outputs": [
    {
     "name": "stdout",
     "output_type": "stream",
     "text": [
      "count    8774.000000\n",
      "mean       16.495281\n",
      "std         8.378196\n",
      "min         0.000021\n",
      "25%        10.891721\n",
      "50%        16.585043\n",
      "75%        22.304106\n",
      "max        54.140940\n",
      "Name: agblongo_tch_alive, dtype: float64\n"
     ]
    }
   ],
   "source": [
    "print(data.agblongo_tch_alive.describe())"
   ]
  },
  {
   "cell_type": "code",
   "execution_count": 52,
   "metadata": {
    "collapsed": false
   },
   "outputs": [
    {
     "name": "stdout",
     "output_type": "stream",
     "text": [
      "count    8774.000000\n",
      "mean        3.815364\n",
      "std         1.663087\n",
      "min         1.000000\n",
      "25%         3.000000\n",
      "50%         4.000000\n",
      "75%         5.000000\n",
      "max        11.000000\n",
      "Name: biomass, dtype: float64\n"
     ]
    }
   ],
   "source": [
    "print(target.describe())"
   ]
  },
  {
   "cell_type": "code",
   "execution_count": null,
   "metadata": {
    "collapsed": true
   },
   "outputs": [],
   "source": [
    "data.drop([\"agblongo_tch_alive\", \"biomass\"], axis=1, inplace=True)"
   ]
  },
  {
   "cell_type": "code",
   "execution_count": 29,
   "metadata": {
    "collapsed": false
   },
   "outputs": [],
   "source": [
    "for col in data.columns:\n",
    "    df = data[col]\n",
    "    data[col] = (df - df.min()) / (df.max() - df.min())"
   ]
  },
  {
   "cell_type": "code",
   "execution_count": 37,
   "metadata": {
    "collapsed": false
   },
   "outputs": [
    {
     "name": "stdout",
     "output_type": "stream",
     "text": [
      "count    9018.000000\n",
      "mean       11.648259\n",
      "std         2.109361\n",
      "min        -1.000000\n",
      "25%        12.000000\n",
      "50%        12.000000\n",
      "75%        12.000000\n",
      "max        12.000000\n",
      "Name: biomass, dtype: float64\n"
     ]
    }
   ],
   "source": [
    "print(target.describe())"
   ]
  },
  {
   "cell_type": "code",
   "execution_count": 38,
   "metadata": {
    "collapsed": false
   },
   "outputs": [
    {
     "data": {
      "text/plain": [
       "<matplotlib.axes._subplots.AxesSubplot at 0x3ec79550>"
      ]
     },
     "execution_count": 38,
     "metadata": {},
     "output_type": "execute_result"
    },
    {
     "data": {
      "image/png": "[encoded data removed]",
      "text/plain": [
       "<matplotlib.figure.Figure at 0x3ec46ac8>"
      ]
     },
     "metadata": {},
     "output_type": "display_data"
    }
   ],
   "source": [
    "target.hist()"
   ]
  },
  {
   "cell_type": "code",
   "execution_count": 33,
   "metadata": {
    "collapsed": false
   },
   "outputs": [
    {
     "name": "stdout",
     "output_type": "stream",
     "text": [
      "outliers.shape: (0L,), target.shape: (9018L,)\n"
     ]
    }
   ],
   "source": [
    "print(\"outliers.shape: {}, target.shape: {}\".format(outliers.shape, target.shape))"
   ]
  },
  {
   "cell_type": "code",
   "execution_count": null,
   "metadata": {
    "collapsed": true
   },
   "outputs": [],
   "source": []
  }
 ],
 "metadata": {
  "kernelspec": {
   "display_name": "Python 2",
   "language": "python",
   "name": "python2"
  },
  "language_info": {
   "codemirror_mode": {
    "name": "ipython",
    "version": 2
   },
   "file_extension": ".py",
   "mimetype": "text/x-python",
   "name": "python",
   "nbconvert_exporter": "python",
   "pygments_lexer": "ipython2",
   "version": "2.7.12"
  }
 },
 "nbformat": 4,
 "nbformat_minor": 0
}
